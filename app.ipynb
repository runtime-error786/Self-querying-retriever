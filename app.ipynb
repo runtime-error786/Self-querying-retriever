{
 "cells": [
  {
   "cell_type": "markdown",
   "metadata": {},
   "source": [
    "# Storing data in Excel"
   ]
  },
  {
   "cell_type": "code",
   "execution_count": 1,
   "metadata": {},
   "outputs": [
    {
     "name": "stdout",
     "output_type": "stream",
     "text": [
      "Excel file 'movies_data.xlsx' created successfully!\n"
     ]
    }
   ],
   "source": [
    "import pandas as pd\n",
    "\n",
    "data = [\n",
    "    {\"page_content\": \"A bunch of scientists bring back dinosaurs and mayhem breaks loose\", \"year\": 1993, \"rating\": 7.7, \"genre\": \"science fiction\", \"director\": \"Steven Spielberg\"},\n",
    "    {\"page_content\": \"Leo DiCaprio gets lost in a dream within a dream within a dream within a ...\", \"year\": 2010, \"rating\": 8.2, \"genre\": \"science fiction\", \"director\": \"Christopher Nolan\"},\n",
    "    {\"page_content\": \"A psychologist / detective gets lost in a series of dreams within dreams within dreams\", \"year\": 2006, \"rating\": 8.6, \"genre\": \"anime\", \"director\": \"Satoshi Kon\"},\n",
    "    {\"page_content\": \"A bunch of normal-sized women are supremely wholesome and some men pine after them\", \"year\": 2019, \"rating\": 8.3, \"genre\": \"drama\", \"director\": \"Greta Gerwig\"},\n",
    "    {\"page_content\": \"Toys come alive and have a blast doing so\", \"year\": 1995, \"rating\": 8.3, \"genre\": \"animated\", \"director\": \"John Lasseter\"},\n",
    "    {\"page_content\": \"Three men walk into the Zone, three men walk out of the Zone\", \"year\": 1979, \"rating\": 9.9, \"genre\": \"thriller\", \"director\": \"Andrei Tarkovsky\"},\n",
    "    {\"page_content\": \"A superhero team-up to save the world\", \"year\": 2012, \"rating\": 8.0, \"genre\": \"action\", \"director\": \"Joss Whedon\"},\n",
    "    {\"page_content\": \"A young lion prince flees his kingdom only to learn the true meaning of responsibility and bravery\", \"year\": 1994, \"rating\": 8.5, \"genre\": \"animated\", \"director\": \"Roger Allers\"},\n",
    "    {\"page_content\": \"A space crew travels through a wormhole in search of a new habitable planet\", \"year\": 2014, \"rating\": 8.6, \"genre\": \"science fiction\", \"director\": \"Christopher Nolan\"},\n",
    "    {\"page_content\": \"A man with short-term memory loss uses notes and tattoos to hunt for the man he thinks killed his wife\", \"year\": 2000, \"rating\": 8.4, \"genre\": \"thriller\", \"director\": \"Christopher Nolan\"},\n",
    "    {\"page_content\": \"A group of intergalactic criminals must pull together to stop a fanatical warrior with plans to purge the universe\", \"year\": 2014, \"rating\": 8.0, \"genre\": \"science fiction\", \"director\": \"James Gunn\"},\n",
    "    {\"page_content\": \"A computer hacker learns from mysterious rebels about the true nature of his reality and his role in the war against its controllers\", \"year\": 1999, \"rating\": 8.7, \"genre\": \"science fiction\", \"director\": \"Lana Wachowski\"},\n",
    "    {\"page_content\": \"A group of friends venture deep into the streets of New York on a rescue mission during a rampaging monster attack\", \"year\": 2008, \"rating\": 7.0, \"genre\": \"horror\", \"director\": \"Matt Reeves\"},\n",
    "    {\"page_content\": \"A thief who steals corporate secrets through the use of dream-sharing technology is given the inverse task of planting an idea into the mind of a CEO\", \"year\": 2010, \"rating\": 8.8, \"genre\": \"science fiction\", \"director\": \"Christopher Nolan\"},\n",
    "    {\"page_content\": \"A woman living in New York takes care of a girl abandoned by her parents and tries to find her biological mother\", \"year\": 2006, \"rating\": 7.1, \"genre\": \"drama\", \"director\": \"Satoshi Kon\"},\n",
    "    {\"page_content\": \"A young programmer is selected to participate in a ground-breaking experiment in synthetic intelligence by evaluating the human qualities of a highly advanced humanoid A.I.\", \"year\": 2014, \"rating\": 7.7, \"genre\": \"science fiction\", \"director\": \"Alex Garland\"},\n",
    "    {\"page_content\": \"A cyborg policewoman must track down a mysterious hacker known as the Puppet Master\", \"year\": 1995, \"rating\": 8.0, \"genre\": \"anime\", \"director\": \"Mamoru Oshii\"},\n",
    "    {\"page_content\": \"A young African prince battles the forces of evil using his new-found superpowers\", \"year\": 2018, \"rating\": 7.3, \"genre\": \"superhero\", \"director\": \"Ryan Coogler\"},\n",
    "    {\"page_content\": \"A billionaire industrialist and genius inventor becomes a superhero and fights against evil\", \"year\": 2008, \"rating\": 7.9, \"genre\": \"superhero\", \"director\": \"Jon Favreau\"},\n",
    "    {\"page_content\": \"An ordinary man becomes a vigilante and fights crime in a city overrun by criminals and corruption\", \"year\": 2005, \"rating\": 8.2, \"genre\": \"action\", \"director\": \"Christopher Nolan\"},\n",
    "]\n",
    "\n",
    "df = pd.DataFrame(data)\n",
    "\n",
    "df.to_excel(\"movies_data.xlsx\", index=False)\n",
    "\n",
    "print(\"Excel file 'movies_data.xlsx' created successfully!\")\n"
   ]
  },
  {
   "cell_type": "code",
   "execution_count": null,
   "metadata": {},
   "outputs": [],
   "source": []
  }
 ],
 "metadata": {
  "kernelspec": {
   "display_name": "Python 3",
   "language": "python",
   "name": "python3"
  },
  "language_info": {
   "codemirror_mode": {
    "name": "ipython",
    "version": 3
   },
   "file_extension": ".py",
   "mimetype": "text/x-python",
   "name": "python",
   "nbconvert_exporter": "python",
   "pygments_lexer": "ipython3",
   "version": "3.11.3"
  }
 },
 "nbformat": 4,
 "nbformat_minor": 2
}
