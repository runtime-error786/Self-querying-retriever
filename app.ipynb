{
 "cells": [
  {
   "cell_type": "markdown",
   "metadata": {},
   "source": [
    "# SQR Using Builtin functions"
   ]
  },
  {
   "cell_type": "code",
   "execution_count": 1,
   "metadata": {},
   "outputs": [
    {
     "name": "stdout",
     "output_type": "stream",
     "text": [
      "Excel file 'movies_data.xlsx' created successfully!\n"
     ]
    }
   ],
   "source": [
    "import pandas as pd\n",
    "\n",
    "data = [\n",
    "    {\"page_content\": \"A bunch of scientists bring back dinosaurs and mayhem breaks loose\", \"year\": 1993, \"rating\": 7.7, \"genre\": \"science fiction\", \"director\": \"Steven Spielberg\"},\n",
    "    {\"page_content\": \"Leo DiCaprio gets lost in a dream within a dream within a dream within a ...\", \"year\": 2010, \"rating\": 8.2, \"genre\": \"science fiction\", \"director\": \"Christopher Nolan\"},\n",
    "    {\"page_content\": \"A psychologist / detective gets lost in a series of dreams within dreams within dreams\", \"year\": 2006, \"rating\": 8.6, \"genre\": \"anime\", \"director\": \"Satoshi Kon\"},\n",
    "    {\"page_content\": \"A bunch of normal-sized women are supremely wholesome and some men pine after them\", \"year\": 2019, \"rating\": 8.3, \"genre\": \"drama\", \"director\": \"Greta Gerwig\"},\n",
    "    {\"page_content\": \"Toys come alive and have a blast doing so\", \"year\": 1995, \"rating\": 8.3, \"genre\": \"animated\", \"director\": \"John Lasseter\"},\n",
    "    {\"page_content\": \"Three men walk into the Zone, three men walk out of the Zone\", \"year\": 1979, \"rating\": 9.9, \"genre\": \"thriller\", \"director\": \"Andrei Tarkovsky\"},\n",
    "    {\"page_content\": \"A superhero team-up to save the world\", \"year\": 2012, \"rating\": 8.0, \"genre\": \"action\", \"director\": \"Joss Whedon\"},\n",
    "    {\"page_content\": \"A young lion prince flees his kingdom only to learn the true meaning of responsibility and bravery\", \"year\": 1994, \"rating\": 8.5, \"genre\": \"animated\", \"director\": \"Roger Allers\"},\n",
    "    {\"page_content\": \"A space crew travels through a wormhole in search of a new habitable planet\", \"year\": 2014, \"rating\": 8.6, \"genre\": \"science fiction\", \"director\": \"Christopher Nolan\"},\n",
    "    {\"page_content\": \"A man with short-term memory loss uses notes and tattoos to hunt for the man he thinks killed his wife\", \"year\": 2000, \"rating\": 8.4, \"genre\": \"thriller\", \"director\": \"Christopher Nolan\"},\n",
    "    {\"page_content\": \"A group of intergalactic criminals must pull together to stop a fanatical warrior with plans to purge the universe\", \"year\": 2014, \"rating\": 8.0, \"genre\": \"science fiction\", \"director\": \"James Gunn\"},\n",
    "    {\"page_content\": \"A computer hacker learns from mysterious rebels about the true nature of his reality and his role in the war against its controllers\", \"year\": 1999, \"rating\": 8.7, \"genre\": \"science fiction\", \"director\": \"Lana Wachowski\"},\n",
    "    {\"page_content\": \"A group of friends venture deep into the streets of New York on a rescue mission during a rampaging monster attack\", \"year\": 2008, \"rating\": 7.0, \"genre\": \"horror\", \"director\": \"Matt Reeves\"},\n",
    "    {\"page_content\": \"A thief who steals corporate secrets through the use of dream-sharing technology is given the inverse task of planting an idea into the mind of a CEO\", \"year\": 2010, \"rating\": 8.8, \"genre\": \"science fiction\", \"director\": \"Christopher Nolan\"},\n",
    "    {\"page_content\": \"A woman living in New York takes care of a girl abandoned by her parents and tries to find her biological mother\", \"year\": 2006, \"rating\": 7.1, \"genre\": \"drama\", \"director\": \"Satoshi Kon\"},\n",
    "    {\"page_content\": \"A young programmer is selected to participate in a ground-breaking experiment in synthetic intelligence by evaluating the human qualities of a highly advanced humanoid A.I.\", \"year\": 2014, \"rating\": 7.7, \"genre\": \"science fiction\", \"director\": \"Alex Garland\"},\n",
    "    {\"page_content\": \"A cyborg policewoman must track down a mysterious hacker known as the Puppet Master\", \"year\": 1995, \"rating\": 8.0, \"genre\": \"anime\", \"director\": \"Mamoru Oshii\"},\n",
    "    {\"page_content\": \"A young African prince battles the forces of evil using his new-found superpowers\", \"year\": 2018, \"rating\": 7.3, \"genre\": \"superhero\", \"director\": \"Ryan Coogler\"},\n",
    "    {\"page_content\": \"A billionaire industrialist and genius inventor becomes a superhero and fights against evil\", \"year\": 2008, \"rating\": 7.9, \"genre\": \"superhero\", \"director\": \"Jon Favreau\"},\n",
    "    {\"page_content\": \"An ordinary man becomes a vigilante and fights crime in a city overrun by criminals and corruption\", \"year\": 2005, \"rating\": 8.2, \"genre\": \"action\", \"director\": \"Christopher Nolan\"},\n",
    "]\n",
    "\n",
    "df = pd.DataFrame(data)\n",
    "\n",
    "df.to_excel(\"movies_data.xlsx\", index=False)\n",
    "\n",
    "print(\"Excel file 'movies_data.xlsx' created successfully!\")\n"
   ]
  },
  {
   "cell_type": "code",
   "execution_count": 2,
   "metadata": {},
   "outputs": [],
   "source": [
    "import pandas as pd\n",
    "from langchain_core.documents import Document\n",
    "from langchain_chroma import Chroma\n",
    "from langchain.embeddings import HuggingFaceEmbeddings"
   ]
  },
  {
   "cell_type": "code",
   "execution_count": 3,
   "metadata": {},
   "outputs": [],
   "source": [
    "df = pd.read_excel(\"movies_data.xlsx\")\n"
   ]
  },
  {
   "cell_type": "code",
   "execution_count": 4,
   "metadata": {},
   "outputs": [],
   "source": [
    "docs = [\n",
    "    Document(\n",
    "        page_content=row['page_content'],\n",
    "        metadata={\n",
    "            \"year\": row.get(\"year\"),\n",
    "            \"rating\": row.get(\"rating\"),\n",
    "            \"genre\": row.get(\"genre\"),\n",
    "            \"director\": row.get(\"director\")\n",
    "        }\n",
    "    )\n",
    "    for index, row in df.iterrows()\n",
    "]"
   ]
  },
  {
   "cell_type": "code",
   "execution_count": 5,
   "metadata": {},
   "outputs": [
    {
     "name": "stderr",
     "output_type": "stream",
     "text": [
      "c:\\Users\\musta\\AppData\\Local\\Programs\\Python\\Python311\\Lib\\site-packages\\langchain_core\\_api\\deprecation.py:141: LangChainDeprecationWarning: The class `HuggingFaceEmbeddings` was deprecated in LangChain 0.2.2 and will be removed in 0.3.0. An updated version of the class exists in the langchain-huggingface package and should be used instead. To use it run `pip install -U langchain-huggingface` and import as `from langchain_huggingface import HuggingFaceEmbeddings`.\n",
      "  warn_deprecated(\n",
      "c:\\Users\\musta\\AppData\\Local\\Programs\\Python\\Python311\\Lib\\site-packages\\sentence_transformers\\cross_encoder\\CrossEncoder.py:11: TqdmWarning: IProgress not found. Please update jupyter and ipywidgets. See https://ipywidgets.readthedocs.io/en/stable/user_install.html\n",
      "  from tqdm.autonotebook import tqdm, trange\n",
      "c:\\Users\\musta\\AppData\\Local\\Programs\\Python\\Python311\\Lib\\site-packages\\threadpoolctl.py:1214: RuntimeWarning: \n",
      "Found Intel OpenMP ('libiomp') and LLVM OpenMP ('libomp') loaded at\n",
      "the same time. Both libraries are known to be incompatible and this\n",
      "can cause random crashes or deadlocks on Linux when loaded in the\n",
      "same Python program.\n",
      "Using threadpoolctl may cause crashes or deadlocks. For more\n",
      "information and possible workarounds, please see\n",
      "    https://github.com/joblib/threadpoolctl/blob/master/multiple_openmp.md\n",
      "\n",
      "  warnings.warn(msg, RuntimeWarning)\n",
      "c:\\Users\\musta\\AppData\\Local\\Programs\\Python\\Python311\\Lib\\site-packages\\huggingface_hub\\file_download.py:1132: FutureWarning: `resume_download` is deprecated and will be removed in version 1.0.0. Downloads always resume when possible. If you want to force a new download, use `force_download=True`.\n",
      "  warnings.warn(\n"
     ]
    }
   ],
   "source": [
    "embedding = HuggingFaceEmbeddings(model_name=\"sentence-transformers/all-MiniLM-L6-v2\")"
   ]
  },
  {
   "cell_type": "code",
   "execution_count": 6,
   "metadata": {},
   "outputs": [],
   "source": [
    "db2 = Chroma.from_documents(docs, embedding=embedding, persist_directory=\"./chroma_db/SQR\")"
   ]
  },
  {
   "cell_type": "code",
   "execution_count": 7,
   "metadata": {},
   "outputs": [],
   "source": [
    "db3 = Chroma(persist_directory=\"./chroma_db/SQR\", embedding_function=embedding)"
   ]
  },
  {
   "cell_type": "code",
   "execution_count": 8,
   "metadata": {},
   "outputs": [],
   "source": [
    "from langchain.chains.query_constructor.base import AttributeInfo\n",
    "from langchain.retrievers.self_query.base import SelfQueryRetriever"
   ]
  },
  {
   "cell_type": "code",
   "execution_count": 9,
   "metadata": {},
   "outputs": [],
   "source": [
    "metadata_field_info = [\n",
    "    AttributeInfo(\n",
    "        name=\"genre\",\n",
    "        description=\"The genre of the movie. One of ['science fiction', 'comedy', 'drama', 'thriller', 'romance', 'action', 'animated']\",\n",
    "        type=\"string\",\n",
    "    ),\n",
    "    AttributeInfo(\n",
    "        name=\"year\",\n",
    "        description=\"The year the movie was released\",\n",
    "        type=\"integer\",\n",
    "    ),\n",
    "    AttributeInfo(\n",
    "        name=\"director\",\n",
    "        description=\"The name of the movie director\",\n",
    "        type=\"string\",\n",
    "    ),\n",
    "    AttributeInfo(\n",
    "        name=\"rating\",\n",
    "        description=\"A 1-10 rating for the movie\",\n",
    "        type=\"float\"\n",
    "    ),\n",
    "]\n"
   ]
  },
  {
   "cell_type": "code",
   "execution_count": 10,
   "metadata": {},
   "outputs": [],
   "source": [
    "document_content_description = \"Brief summary of a movie\""
   ]
  },
  {
   "cell_type": "code",
   "execution_count": 11,
   "metadata": {},
   "outputs": [],
   "source": [
    "from langchain_community.llms import Ollama"
   ]
  },
  {
   "cell_type": "code",
   "execution_count": 12,
   "metadata": {},
   "outputs": [],
   "source": [
    "llm = Ollama(model=\"llama3\")"
   ]
  },
  {
   "cell_type": "code",
   "execution_count": 13,
   "metadata": {},
   "outputs": [],
   "source": [
    "retriever = SelfQueryRetriever.from_llm(\n",
    "    llm,\n",
    "    db3,\n",
    "    document_content_description,\n",
    "    metadata_field_info,\n",
    ")"
   ]
  },
  {
   "cell_type": "code",
   "execution_count": 17,
   "metadata": {},
   "outputs": [
    {
     "data": {
      "text/plain": [
       "[Document(metadata={'director': 'Christopher Nolan', 'genre': 'science fiction', 'rating': 8.2, 'year': 2010}, page_content='Leo DiCaprio gets lost in a dream within a dream within a dream within a ...'),\n",
       " Document(metadata={'director': 'Christopher Nolan', 'genre': 'action', 'rating': 8.2, 'year': 2005}, page_content='An ordinary man becomes a vigilante and fights crime in a city overrun by criminals and corruption'),\n",
       " Document(metadata={'director': 'Christopher Nolan', 'genre': 'science fiction', 'rating': 8.8, 'year': 2010}, page_content='A thief who steals corporate secrets through the use of dream-sharing technology is given the inverse task of planting an idea into the mind of a CEO'),\n",
       " Document(metadata={'director': 'Christopher Nolan', 'genre': 'science fiction', 'rating': 8.6, 'year': 2014}, page_content='A space crew travels through a wormhole in search of a new habitable planet')]"
      ]
     },
     "execution_count": 17,
     "metadata": {},
     "output_type": "execute_result"
    }
   ],
   "source": [
    "retriever.invoke(\n",
    "    \"Can you find a movie directed by Christopher Nolan that has a rating of at least 7?\"\n",
    ")"
   ]
  },
  {
   "cell_type": "code",
   "execution_count": 18,
   "metadata": {},
   "outputs": [
    {
     "data": {
      "text/plain": [
       "[Document(metadata={'director': 'John Lasseter', 'genre': 'animated', 'rating': 8.3, 'year': 1995}, page_content='Toys come alive and have a blast doing so')]"
      ]
     },
     "execution_count": 18,
     "metadata": {},
     "output_type": "execute_result"
    }
   ],
   "source": [
    "retriever.invoke(\n",
    "    \"an animated movie released between 1995 and 2005 that involves toys?\"\n",
    ")"
   ]
  },
  {
   "cell_type": "markdown",
   "metadata": {},
   "source": [
    "# SQR From Scratch"
   ]
  },
  {
   "cell_type": "code",
   "execution_count": 19,
   "metadata": {},
   "outputs": [],
   "source": [
    "from langchain.chains.query_constructor.base import (\n",
    "    StructuredQueryOutputParser,\n",
    "    get_query_constructor_prompt,\n",
    ")\n"
   ]
  },
  {
   "cell_type": "code",
   "execution_count": 20,
   "metadata": {},
   "outputs": [],
   "source": [
    "prompt = get_query_constructor_prompt(\n",
    "    document_content_description,\n",
    "    metadata_field_info,\n",
    ")"
   ]
  },
  {
   "cell_type": "code",
   "execution_count": 21,
   "metadata": {},
   "outputs": [],
   "source": [
    "output_parser = StructuredQueryOutputParser.from_components()\n"
   ]
  },
  {
   "cell_type": "code",
   "execution_count": 22,
   "metadata": {},
   "outputs": [],
   "source": [
    "query_constructor = prompt | llm | output_parser"
   ]
  },
  {
   "cell_type": "code",
   "execution_count": 23,
   "metadata": {},
   "outputs": [],
   "source": [
    "from langchain.retrievers.self_query.chroma import ChromaTranslator"
   ]
  },
  {
   "cell_type": "code",
   "execution_count": 25,
   "metadata": {},
   "outputs": [],
   "source": [
    "retriever = SelfQueryRetriever(\n",
    "    query_constructor=query_constructor,\n",
    "    vectorstore=db3,\n",
    "    structured_query_translator=ChromaTranslator(),\n",
    ")"
   ]
  },
  {
   "cell_type": "code",
   "execution_count": 26,
   "metadata": {},
   "outputs": [
    {
     "data": {
      "text/plain": [
       "[Document(metadata={'director': 'John Lasseter', 'genre': 'animated', 'rating': 8.3, 'year': 1995}, page_content='Toys come alive and have a blast doing so'),\n",
       " Document(metadata={'director': 'Roger Allers', 'genre': 'animated', 'rating': 8.5, 'year': 1994}, page_content='A young lion prince flees his kingdom only to learn the true meaning of responsibility and bravery')]"
      ]
     },
     "execution_count": 26,
     "metadata": {},
     "output_type": "execute_result"
    }
   ],
   "source": [
    "retriever.invoke(\n",
    "    \"What's a movie after 1990 but before 2005 that's all about toys, and preferably is animated\"\n",
    ")"
   ]
  },
  {
   "cell_type": "code",
   "execution_count": null,
   "metadata": {},
   "outputs": [],
   "source": []
  }
 ],
 "metadata": {
  "kernelspec": {
   "display_name": "Python 3",
   "language": "python",
   "name": "python3"
  },
  "language_info": {
   "codemirror_mode": {
    "name": "ipython",
    "version": 3
   },
   "file_extension": ".py",
   "mimetype": "text/x-python",
   "name": "python",
   "nbconvert_exporter": "python",
   "pygments_lexer": "ipython3",
   "version": "3.11.3"
  }
 },
 "nbformat": 4,
 "nbformat_minor": 2
}
